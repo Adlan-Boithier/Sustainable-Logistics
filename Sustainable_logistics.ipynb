{
  "cells": [
    {
      "cell_type": "markdown",
      "metadata": {
        "id": "WmsbqzEUBGyA"
      },
      "source": [
        "# **Sustainable logistics project**\n",
        "We decided to work on tourism in Switzerland. Switzerland being a relatively expensive country for a foreigner due to the high standard of living here, it seems important to us to be able to propose solutions to visit this magnificent country at a lower cost. The problems of travel time and distance traveled are also to be considered insofar as traveling while taking care of one's footprint on the environment is important in view of the current climate situation but also to preserve the Swiss environment which is still very well preserved compared to other countries. In order to optimize this, we have designed different algorithms seen during Sustainable Logistics to allow travelers to visit Switzerland at a lower cost but also to reduce their impact on the climate.\n",
        "We started by establishing a top 10 of destinations to discover in Switzerland thanks to a website on which the best tourist destinations in the country are listed (Cap-Voyage)."
      ]
    },
    {
      "cell_type": "markdown",
      "metadata": {
        "id": "4-tuQJxrG0O_"
      },
      "source": [
        "**According to CapVoyages, here are the 10 best places to visit in Switzerland.**\n",
        "\n",
        "1.   Observation platform of Gornergrat\n",
        "2.   Chillon's castle\n",
        "3.   Jungfraujoch\n",
        "4.   Schweizerischer national park\n",
        "5.   Lemanic Lake in Lausanne\n",
        "6.   Lugano's town\n",
        "7.   Berne's town\n",
        "8.   Lucerne's town\n",
        "9.   Rhin's waterfalls\n",
        "10.  Zurich's town\n"
      ]
    },
    {
      "cell_type": "markdown",
      "metadata": {
        "id": "_Y0epNEZ7kZ4"
      },
      "source": [
        "## **1. Different TSP models to optimize**\n",
        "The first part of our project will be about trying to reduce the time/distance to visit all those 10 places.\n",
        "\n",
        "First, we will need to build our matrix with the distances of all the places between each others.\n",
        "\n",
        "- Distance & Environmental impact (car + train) **fait par Arthur**\n",
        "- Time (car + train)\n",
        "- Cost (car + train)"
      ]
    },
    {
      "cell_type": "markdown",
      "metadata": {
        "id": "EFgJA2Hcflf6"
      },
      "source": [
        "### **1.1 Optimize distance to visit the top 10 destinations**"
      ]
    },
    {
      "cell_type": "markdown",
      "metadata": {
        "id": "NKwR2U9ZwjaC"
      },
      "source": [
        "#### **1.1.1 By car**"
      ]
    },
    {
      "cell_type": "code",
      "execution_count": null,
      "metadata": {
        "colab": {
          "base_uri": "https://localhost:8080/"
        },
        "id": "sn21HDV0iJR1",
        "outputId": "5f6ca4b5-4ee9-4ec3-8f47-471917794b88"
      },
      "outputs": [
        {
          "name": "stdout",
          "output_type": "stream",
          "text": [
            "Looking in indexes: https://pypi.org/simple, https://us-python.pkg.dev/colab-wheels/public/simple/\n",
            "Requirement already satisfied: ortools in /usr/local/lib/python3.10/dist-packages (9.6.2534)\n",
            "Requirement already satisfied: absl-py>=0.13 in /usr/local/lib/python3.10/dist-packages (from ortools) (1.4.0)\n",
            "Requirement already satisfied: numpy>=1.13.3 in /usr/local/lib/python3.10/dist-packages (from ortools) (1.22.4)\n",
            "Requirement already satisfied: protobuf>=4.21.12 in /usr/local/lib/python3.10/dist-packages (from ortools) (4.23.0)\n",
            "Requirement already satisfied: scipy>=1.10.0 in /usr/local/lib/python3.10/dist-packages (from ortools) (1.10.1)\n",
            "Objective: 1023 km\n",
            "Route for vehicle 0:\n",
            " 9 -> 7 -> 0 -> 2 -> 6 -> 5 -> 4 -> 1 -> 3 -> 8 -> 9\n",
            "Route distance: 1023km\n",
            "\n"
          ]
        }
      ],
      "source": [
        "#Package installation and importation\n",
        "!pip install ortools\n",
        "from ortools.constraint_solver import routing_enums_pb2\n",
        "from ortools.constraint_solver import pywrapcp\n",
        "\n",
        "#Model and constraints variables creation \n",
        "def create_data_model():\n",
        "    data = {}\n",
        "    data['distance_matrix'] = [\n",
        "    [0, 170, 53, 184, 236, 251, 136, 133, 233, 210], # Observation platform of Gornergrat\n",
        "    [170, 0, 160, 116, 76, 227, 104, 177, 306, 207], # Chillon's castle\n",
        "    [53, 160, 0, 200, 222, 228, 56, 73, 303, 131], # Jungfraujoch\n",
        "    [184, 116, 200, 0, 215, 361, 174, 221, 137, 237], # Schweizerischer National Park\n",
        "    [236, 76, 222, 215, 0, 187, 76, 154, 419, 220], # Lemanic Lake in Lausanne\n",
        "    [251, 227, 228, 361, 187, 0, 161, 166, 220, 195], # Lugano's town\n",
        "    [136, 104, 56, 174, 76, 161, 0, 44, 216, 101], # Berne's town\n",
        "    [133, 177, 73, 221, 154, 166, 44, 0, 242, 51], # Lucerne's town\n",
        "    [233, 306, 303, 137, 419, 220, 216, 242, 0, 53], # Rhin's waterfalls\n",
        "    [210, 207, 131, 237, 220, 195, 101, 51, 53, 0] # Zurich's town\n",
        "    ]\n",
        "    data['num_vehicles'] = 1\n",
        "    data['depot'] = 9\n",
        "    return data\n",
        "\n",
        "#Printing out the results of a solution to the Vehicle Routing Problem\n",
        "def print_solution(manager, routing, solution):\n",
        "    print('Objective: {} km'.format(solution.ObjectiveValue()))\n",
        "    #Start looping over the nodes visited by the first vehicle\n",
        "    index = routing.Start(0)\n",
        "    plan_output = 'Route for vehicle 0:\\n'\n",
        "    route_distance = 0\n",
        "    #Loop until the first vehicle returns to its depot\n",
        "    while not routing.IsEnd(index):\n",
        "        plan_output += ' {} ->'.format(manager.IndexToNode(index))\n",
        "        previous_index = index\n",
        "        index = solution.Value(routing.NextVar(index))\n",
        "        route_distance += routing.GetArcCostForVehicle(previous_index, index, 0)\n",
        "    #Add the last node (depot) to the string\n",
        "    plan_output += ' {}\\n'.format(manager.IndexToNode(index))\n",
        "    #Add the total distance traveled by the first vehicle to the string\n",
        "    plan_output += 'Route distance: {}km\\n'.format(route_distance)\n",
        "    print(plan_output)\n",
        "    \n",
        "#Solving the Vehicle Routing Problem (VRP) using the Google OR-Tools library\n",
        "def main():\n",
        "    data = create_data_model()\n",
        "    manager = pywrapcp.RoutingIndexManager(len(data['distance_matrix']),\n",
        "                                           data['num_vehicles'], data['depot'])\n",
        "    routing = pywrapcp.RoutingModel(manager)\n",
        "\n",
        "    #Define a distance callback function for the VRP\n",
        "    def distance_callback(from_index, to_index):\n",
        "        from_node = manager.IndexToNode(from_index)\n",
        "        to_node = manager.IndexToNode(to_index)\n",
        "        return data['distance_matrix'][from_node][to_node]\n",
        "\n",
        "    transit_callback_index = routing.RegisterTransitCallback(distance_callback)\n",
        "    routing.SetArcCostEvaluatorOfAllVehicles(transit_callback_index)\n",
        "    search_parameters = pywrapcp.DefaultRoutingSearchParameters()\n",
        "    search_parameters.first_solution_strategy = (\n",
        "        routing_enums_pb2.FirstSolutionStrategy.PATH_CHEAPEST_ARC)\n",
        "    #Solving the VRP using the routing model and search parameters\n",
        "    solution = routing.SolveWithParameters(search_parameters)\n",
        "    #If a solution is founded, print it out using the print_solution function\n",
        "    if solution:\n",
        "        print_solution(manager, routing, solution)\n",
        "#Launches the main function\n",
        "if __name__ == '__main__':\n",
        "    main()"
      ]
    },
    {
      "cell_type": "markdown",
      "metadata": {
        "id": "mCYYju8WtAqE"
      },
      "source": [
        "With this first basic function and analysis, we see that according to the distance criterion, and assuming that travellers start from Zurich airport for ease, the best route to take is the following:\n",
        "Zurich => Lucerne => Observation platform of Gornergrat => Jungfraujoch => Bern => Lugano => Lausanne => Chillon's Castle => Schweizerischer national park => Rhine's waterfalls => Zurich\n",
        "\n",
        "This route is 1023km long and is done exclusively by car. \n",
        "\n",
        "Given that a car journey emits on average 121g of CO2 per kilometre, this journey represents an impact of 123.783kg of CO2.\n",
        "\n",
        "We can therefore compare it with the train in order to give the tourist the possibility to choose his mode of transport according to the emissions of the latter.\n"
      ]
    },
    {
      "cell_type": "markdown",
      "metadata": {
        "id": "x9NVvjFhw1ef"
      },
      "source": [
        "#### **1.1.2 By train**"
      ]
    },
    {
      "cell_type": "code",
      "execution_count": null,
      "metadata": {
        "colab": {
          "base_uri": "https://localhost:8080/"
        },
        "id": "9hdDO55wyuex",
        "outputId": "c9694f7f-8e34-4356-b220-d9dafcf5edaa"
      },
      "outputs": [
        {
          "name": "stdout",
          "output_type": "stream",
          "text": [
            "Looking in indexes: https://pypi.org/simple, https://us-python.pkg.dev/colab-wheels/public/simple/\n",
            "Requirement already satisfied: ortools in /usr/local/lib/python3.10/dist-packages (9.6.2534)\n",
            "Requirement already satisfied: absl-py>=0.13 in /usr/local/lib/python3.10/dist-packages (from ortools) (1.4.0)\n",
            "Requirement already satisfied: numpy>=1.13.3 in /usr/local/lib/python3.10/dist-packages (from ortools) (1.22.4)\n",
            "Requirement already satisfied: protobuf>=4.21.12 in /usr/local/lib/python3.10/dist-packages (from ortools) (4.23.0)\n",
            "Requirement already satisfied: scipy>=1.10.0 in /usr/local/lib/python3.10/dist-packages (from ortools) (1.10.1)\n",
            "Objective: 1218 km\n",
            "Route for vehicle 0:\n",
            " 9 -> 7 -> 6 -> 2 -> 0 -> 1 -> 4 -> 3 -> 5 -> 8 -> 9\n",
            "Route distance: 1218km\n",
            "\n"
          ]
        }
      ],
      "source": [
        "#Package installation and importation\n",
        "!pip install ortools\n",
        "from ortools.constraint_solver import routing_enums_pb2\n",
        "from ortools.constraint_solver import pywrapcp\n",
        "\n",
        "#Model and constraints variables creation \n",
        "def create_data_model():\n",
        "    data = {}\n",
        "    data['distance_matrix'] = [\n",
        "    [0, 139, 88, 340, 218, 392, 173, 234, 331, 244], # Observation platform of Gornergrat\n",
        "    [139, 0, 186, 201, 29, 305, 103, 164, 261, 174], # Chillon's castle\n",
        "    [88, 186, 0, 269, 207, 381, 162, 223, 320, 233], # Jungfraujoch\n",
        "    [340, 201, 269, 0, 172, 134, 207, 195, 182, 193], # Schweizerischer National Park\n",
        "    [218, 29, 207, 172, 0, 276, 74, 135, 232, 145],  # Lemanic Lake in Lausanne\n",
        "    [392, 305, 381, 134, 276, 0, 280, 248, 222, 197], # Lugano's town\n",
        "    [173, 103, 162, 207, 74, 280, 0, 61, 158, 72],    # Berne's town\n",
        "    [234, 164, 223, 195, 135, 248, 61, 0, 211, 52],   # Lucerne's town\n",
        "    [331, 261, 320, 182, 232, 222, 158, 211, 0, 159], # Rhin's waterfalls\n",
        "    [244, 174, 233, 193, 145, 197, 72, 52, 159, 0]    # Zurich's town\n",
        "]\n",
        "    data['num_vehicles'] = 1\n",
        "    data['depot'] = 9\n",
        "    return data\n",
        "\n",
        "#Printing out the results of a solution to the Vehicle Routing Problem\n",
        "def print_solution(manager, routing, solution):\n",
        "    print('Objective: {} km'.format(solution.ObjectiveValue()))\n",
        "    #Start looping over the nodes visited by the first vehicle\n",
        "    index = routing.Start(0)\n",
        "    plan_output = 'Route for vehicle 0:\\n'\n",
        "    route_distance = 0\n",
        "    #Loop until the first vehicle returns to its depot\n",
        "    while not routing.IsEnd(index):\n",
        "        plan_output += ' {} ->'.format(manager.IndexToNode(index))\n",
        "        previous_index = index\n",
        "        index = solution.Value(routing.NextVar(index))\n",
        "        route_distance += routing.GetArcCostForVehicle(previous_index, index, 0)\n",
        "    #Add the last node (depot) to the string\n",
        "    plan_output += ' {}\\n'.format(manager.IndexToNode(index))\n",
        "    #Add the total distance traveled by the first vehicle to the string\n",
        "    plan_output += 'Route distance: {}km\\n'.format(route_distance)\n",
        "    print(plan_output)\n",
        "\n",
        "#Solving the Vehicle Routing Problem (VRP) using the Google OR-Tools library\n",
        "def main():\n",
        "    data = create_data_model()\n",
        "    manager = pywrapcp.RoutingIndexManager(len(data['distance_matrix']),\n",
        "                                           data['num_vehicles'], data['depot'])\n",
        "    routing = pywrapcp.RoutingModel(manager)\n",
        "    #Define a distance callback function for the VRP  \n",
        "    def distance_callback(from_index, to_index):\n",
        "        from_node = manager.IndexToNode(from_index)\n",
        "        to_node = manager.IndexToNode(to_index)\n",
        "        return data['distance_matrix'][from_node][to_node]\n",
        "\n",
        "    transit_callback_index = routing.RegisterTransitCallback(distance_callback)\n",
        "\n",
        "    routing.SetArcCostEvaluatorOfAllVehicles(transit_callback_index)\n",
        "\n",
        "    search_parameters = pywrapcp.DefaultRoutingSearchParameters()\n",
        "\n",
        "    search_parameters.first_solution_strategy = (\n",
        "        routing_enums_pb2.FirstSolutionStrategy.PATH_CHEAPEST_ARC)\n",
        "    #Solving the VRP using the routing model and search parameters\n",
        "    solution = routing.SolveWithParameters(search_parameters)\n",
        "    #If a solution is founded, print it out using the print_solution function\n",
        "    if solution:\n",
        "        print_solution(manager, routing, solution)\n",
        "\n",
        "#Launches the main function\n",
        "if __name__ == '__main__':\n",
        "    main()"
      ]
    },
    {
      "cell_type": "markdown",
      "metadata": {
        "id": "gAjHMtd0zUc8"
      },
      "source": [
        "By taking the train, travellers will therefore have to travel just over 200 kilometres more to visit all 10 tourist sites. However, the travel time may be more advantageous, which we will address in a later part of this project. What is interesting here is that the order of visiting the destinations is different. Indeed, using the train as a means of transport, travellers will take the following route in case they want to minimise their travel distance:\n",
        "\n",
        "Zurich => Lucerne => Bern => Jungfraujoch => Observation platform of Gornergrat => Chillon's castle => Lausanne => Schweizerischer national park => Lugano => Rhine's waterfalls => Zurich\n",
        "\n",
        "This route is exactly 1218km long.\n",
        "\n",
        "Given that a train journey on average 37g of CO2 per kilometre, this journey represents an impact of 45.066kg of CO2 but for a whole train ! Even with only one wagon, this is significantly less than a car.\n"
      ]
    },
    {
      "cell_type": "markdown",
      "metadata": {
        "id": "fiafUpJR13xS"
      },
      "source": [
        "#### **1.1.3 Conclusion**\n",
        "\n",
        "Travelling by car is way shorter, more practical and has surely more advantages. But by comparing the CO2 emissions of both transportations mode, it's clear that train is much more ecological.\n",
        "\n",
        "Depending on consumers preferences and way of consuming, this analysis can provide him different information about his emissions and the distance he has to travel in order to make the whole tour. \n"
      ]
    },
    {
      "cell_type": "markdown",
      "metadata": {
        "id": "cMxVLJzE2AjM"
      },
      "source": [
        "### **1.2 Optimize time to visit the top 10 destinations.**\n",
        "Both of the following models are applying exactly the same principle as the first two models we have seen here above.\n",
        "Except the fact that we are now working with time and not with distances anymore\n"
      ]
    },
    {
      "cell_type": "markdown",
      "metadata": {
        "id": "YrChLJHnkjOg"
      },
      "source": [
        "#### **1.2.1** By car "
      ]
    },
    {
      "cell_type": "code",
      "execution_count": 1,
      "metadata": {
        "colab": {
          "base_uri": "https://localhost:8080/"
        },
        "id": "a9ieqMZ2lAho",
        "outputId": "077d4590-b592-46b2-fab4-5dd2385177f5"
      },
      "outputs": [
        {
          "name": "stdout",
          "output_type": "stream",
          "text": [
            "Looking in indexes: https://pypi.org/simple, https://us-python.pkg.dev/colab-wheels/public/simple/\n",
            "Collecting ortools\n",
            "  Downloading ortools-9.6.2534-cp310-cp310-manylinux_2_17_x86_64.manylinux2014_x86_64.whl (16.4 MB)\n",
            "\u001b[2K     \u001b[90m━━━━━━━━━━━━━━━━━━━━━━━━━━━━━━━━━━━━━━━━\u001b[0m \u001b[32m16.4/16.4 MB\u001b[0m \u001b[31m50.0 MB/s\u001b[0m eta \u001b[36m0:00:00\u001b[0m\n",
            "\u001b[?25hRequirement already satisfied: absl-py>=0.13 in /usr/local/lib/python3.10/dist-packages (from ortools) (1.4.0)\n",
            "Requirement already satisfied: numpy>=1.13.3 in /usr/local/lib/python3.10/dist-packages (from ortools) (1.22.4)\n",
            "Collecting protobuf>=4.21.12 (from ortools)\n",
            "  Downloading protobuf-4.23.0-cp37-abi3-manylinux2014_x86_64.whl (304 kB)\n",
            "\u001b[2K     \u001b[90m━━━━━━━━━━━━━━━━━━━━━━━━━━━━━━━━━━━━━━\u001b[0m \u001b[32m304.5/304.5 kB\u001b[0m \u001b[31m14.7 MB/s\u001b[0m eta \u001b[36m0:00:00\u001b[0m\n",
            "\u001b[?25hRequirement already satisfied: scipy>=1.10.0 in /usr/local/lib/python3.10/dist-packages (from ortools) (1.10.1)\n",
            "Installing collected packages: protobuf, ortools\n",
            "  Attempting uninstall: protobuf\n",
            "    Found existing installation: protobuf 3.20.3\n",
            "    Uninstalling protobuf-3.20.3:\n",
            "      Successfully uninstalled protobuf-3.20.3\n",
            "Successfully installed ortools-9.6.2534 protobuf-4.23.0\n",
            "Objective: 880 min\n",
            "Route for vehicle 0:\n",
            " 9 -> 7 -> 3 -> 2 -> 6 -> 1 -> 4 -> 0 -> 5 -> 8 -> 9\n",
            "\n"
          ]
        }
      ],
      "source": [
        "!pip install ortools\n",
        "from ortools.constraint_solver import routing_enums_pb2\n",
        "from ortools.constraint_solver import pywrapcp\n",
        "\n",
        "# Initialisation des données\n",
        "\n",
        "def create_data_model():\n",
        "    data = {}\n",
        "    data['car_times'] = [\n",
        "        [0, 120, 270, 240, 60, 210, 60, 90, 330, 150],# Observation platform of Gornergrat\n",
        "        [120, 0, 270, 240, 60, 330, 60, 120, 360, 120], # Chillon's castle\n",
        "        [270, 270, 0, 180, 210, 450, 90, 120, 330, 150], # Jungfraujoch\n",
        "        [240, 240, 180, 0, 270, 420, 60, 90, 270, 90], # Schweizerischer National Park\n",
        "        [60, 60, 210, 270, 0, 360, 30, 60, 210, 30], # Lemanic Lake in Lausanne\n",
        "        [210, 330, 450, 7, 360, 0, 330, 390, 10, 210], # Lugano's town\n",
        "        [60, 60, 90, 60, 30, 330, 0, 30, 150, 30], # Berne's town\n",
        "        [90, 120, 120, 90, 60, 390, 30, 0, 210, 30], # Lucerne's town\n",
        "        [330, 360, 330, 270, 210, 10, 150, 210, 0, 90], # Rhin's waterfalls\n",
        "        [150, 120, 150, 90, 30, 210, 30, 30, 90, 0]   # Zurich's town\n",
        "    ]\n",
        "    data['num_vehicles'] = 1\n",
        "    data['depot'] = 9\n",
        "    return data\n",
        "\n",
        "def print_solution(manager, routing, solution):\n",
        "    \"\"\"Prints solution on console.\"\"\"\n",
        "    print('Objective: {} min'.format(solution.ObjectiveValue()))\n",
        "    index = routing.Start(0)\n",
        "    plan_output = 'Route for vehicle 0:\\n'\n",
        "    route_distance = 0\n",
        "    while not routing.IsEnd(index):\n",
        "        plan_output += ' {} ->'.format(manager.IndexToNode(index))\n",
        "        previous_index = index\n",
        "        index = solution.Value(routing.NextVar(index))\n",
        "        route_distance += routing.GetArcCostForVehicle(previous_index, index, 0)\n",
        "    plan_output += ' {}\\n'.format(manager.IndexToNode(index))\n",
        "    print(plan_output)\n",
        "    plan_output += 'Route distance: {}km\\n'.format(route_distance)\n",
        "\n",
        "def main():\n",
        "    data = create_data_model()\n",
        "    manager = pywrapcp.RoutingIndexManager(len(data['car_times']),\n",
        "                                           data['num_vehicles'], data['depot'])\n",
        "    routing = pywrapcp.RoutingModel(manager)\n",
        "\n",
        "    def distance_callback(from_index, to_index):\n",
        "        from_node = manager.IndexToNode(from_index)\n",
        "        to_node = manager.IndexToNode(to_index)\n",
        "        return data['car_times'][from_node][to_node]\n",
        "\n",
        "    transit_callback_index = routing.RegisterTransitCallback(distance_callback)\n",
        "\n",
        "    routing.SetArcCostEvaluatorOfAllVehicles(transit_callback_index)\n",
        "\n",
        "    search_parameters = pywrapcp.DefaultRoutingSearchParameters()\n",
        "\n",
        "    search_parameters.first_solution_strategy = (\n",
        "        routing_enums_pb2.FirstSolutionStrategy.PATH_CHEAPEST_ARC)\n",
        "    \n",
        "    solution = routing.SolveWithParameters(search_parameters)\n",
        "    \n",
        "    if solution:\n",
        "        print_solution(manager, routing, solution)\n",
        "        \n",
        "if __name__ == '__main__':\n",
        "    main()"
      ]
    },
    {
      "cell_type": "markdown",
      "metadata": {
        "id": "poP9JcWMgwV3"
      },
      "source": [
        "If someone wants to visit the 10 tourist places by car and minimize the travel time between each place, one should make the following tour: Zurich, city of Lucerne, Schweizerischer National Park, Jungfraujoch, city of Bern, castle of Chillon, Lake Geneva in Lausanne, observation platform of Gornergrat, city of Lugano, Rhine Falls and finally return to Zurich airport. This route takes into account the constraint of starting and finishing in Zurich, the city with the largest airport in Switzerland. The total travel time for this tour would be 14 hours and 50 minutes."
      ]
    },
    {
      "cell_type": "markdown",
      "metadata": {
        "id": "hwy8Ke6alAhr"
      },
      "source": [
        "#### **1.2.2** By train \n",
        "The following analysis is exactly the same as the first we have seen in this part but this time, the given traveltimes are related to train and not to car anymore."
      ]
    },
    {
      "cell_type": "code",
      "execution_count": 2,
      "metadata": {
        "colab": {
          "base_uri": "https://localhost:8080/"
        },
        "id": "sfJUxTiGV_pE",
        "outputId": "d4005dda-a8a7-4917-ab05-8f2b37195442"
      },
      "outputs": [
        {
          "name": "stdout",
          "output_type": "stream",
          "text": [
            "Looking in indexes: https://pypi.org/simple, https://us-python.pkg.dev/colab-wheels/public/simple/\n",
            "Requirement already satisfied: ortools in /usr/local/lib/python3.10/dist-packages (9.6.2534)\n",
            "Requirement already satisfied: absl-py>=0.13 in /usr/local/lib/python3.10/dist-packages (from ortools) (1.4.0)\n",
            "Requirement already satisfied: numpy>=1.13.3 in /usr/local/lib/python3.10/dist-packages (from ortools) (1.22.4)\n",
            "Requirement already satisfied: protobuf>=4.21.12 in /usr/local/lib/python3.10/dist-packages (from ortools) (4.23.0)\n",
            "Requirement already satisfied: scipy>=1.10.0 in /usr/local/lib/python3.10/dist-packages (from ortools) (1.10.1)\n",
            "Objective: 1860 min\n",
            "Route for vehicle 0:\n",
            " 9 -> 7 -> 3 -> 6 -> 8 -> 4 -> 1 -> 2 -> 0 -> 5 -> 9\n",
            "\n"
          ]
        }
      ],
      "source": [
        "!pip install ortools\n",
        "from ortools.constraint_solver import routing_enums_pb2\n",
        "from ortools.constraint_solver import pywrapcp\n",
        "\n",
        "# Initialisation des données\n",
        "\n",
        "def create_data_model():\n",
        "    data = {}\n",
        "    data['train_times'] = [\n",
        "        [  0, 210, 180, 390, 150, 330, 150, 210, 360, 210], #Observation platform of Gornergrat\n",
        "        [210,   0, 210, 360,  90, 360,  90, 150, 270,  90], #Chillon's castle\n",
        "        [180, 210,   0, 390, 210, 390, 150, 210, 330, 150], #Jungfraujoch\n",
        "        [390, 360, 390,   0, 300, 480, 210, 300, 420, 210], #Schweizerischer National Park\n",
        "        [150,  90, 210, 300,   0, 270,  60,  90, 180,  60], #Lemanic Lake in Lausanne\n",
        "        [330, 360, 390, 480, 270,   0, 300, 330, 390, 150], #Lugano's town\n",
        "        [150,  90, 150, 210,  60, 300,   0,  90, 180,  60], #Berne's town\n",
        "        [210, 150, 210, 300,  90, 330,  90,   0, 270,  30], #Lucerne's town\n",
        "        [360, 270, 330, 420, 180, 390, 180, 270,   0, 150], #Rhin's waterfalls\n",
        "        [210,  90, 150, 210,  60, 150,  60,  30, 150,   0]  #Zurich's town\n",
        "    ]\n",
        "    data['num_vehicles'] = 1\n",
        "    data['depot'] = 9\n",
        "    return data\n",
        "\n",
        "def print_solution(manager, routing, solution):\n",
        "    \"\"\"Prints solution on console.\"\"\"\n",
        "    print('Objective: {} min'.format(solution.ObjectiveValue()))\n",
        "    index = routing.Start(0)\n",
        "    plan_output = 'Route for vehicle 0:\\n'\n",
        "    route_distance = 0\n",
        "    while not routing.IsEnd(index):\n",
        "        plan_output += ' {} ->'.format(manager.IndexToNode(index))\n",
        "        previous_index = index\n",
        "        index = solution.Value(routing.NextVar(index))\n",
        "        route_distance += routing.GetArcCostForVehicle(previous_index, index, 0)\n",
        "    plan_output += ' {}\\n'.format(manager.IndexToNode(index))\n",
        "    print(plan_output)\n",
        "    plan_output += 'Route distance: {}km\\n'.format(route_distance)\n",
        "\n",
        "def main():\n",
        "    data = create_data_model()\n",
        "    manager = pywrapcp.RoutingIndexManager(len(data['train_times']),\n",
        "                                           data['num_vehicles'], data['depot'])\n",
        "    routing = pywrapcp.RoutingModel(manager)\n",
        "\n",
        "    def distance_callback(from_index, to_index):\n",
        "        from_node = manager.IndexToNode(from_index)\n",
        "        to_node = manager.IndexToNode(to_index)\n",
        "        return data['train_times'][from_node][to_node]\n",
        "\n",
        "    transit_callback_index = routing.RegisterTransitCallback(distance_callback)\n",
        "\n",
        "    routing.SetArcCostEvaluatorOfAllVehicles(transit_callback_index)\n",
        "\n",
        "    search_parameters = pywrapcp.DefaultRoutingSearchParameters()\n",
        "\n",
        "    search_parameters.first_solution_strategy = (\n",
        "        routing_enums_pb2.FirstSolutionStrategy.PATH_CHEAPEST_ARC)\n",
        "    \n",
        "    solution = routing.SolveWithParameters(search_parameters)\n",
        "    \n",
        "    if solution:\n",
        "        print_solution(manager, routing, solution)\n",
        "        \n",
        "if __name__ == '__main__':\n",
        "    main()"
      ]
    },
    {
      "cell_type": "markdown",
      "metadata": {
        "id": "hyj-o9hwV-5d"
      },
      "source": [
        "If we want to optimise the travel time by train, the route minimising the total travel time is not the same and it is longer. The shortest one goes in order through Zurich, city of Lucerne, Schweizerischer National Park, city of Berne, Rhine Falls, Lake Geneva in Lausanne, Chillon Castle, Jungfraujoch, Observation platform of Gornergrat, city of Lugano and finally back to Zurich, always with the constraint of starting and ending at Kloten airport. This time the total travel time is 31 hours."
      ]
    },
    {
      "cell_type": "markdown",
      "metadata": {
        "id": "ayNShP-VqwKh"
      },
      "source": [
        "**Assumptions:**\n",
        "- The model doesn\"t consider traffic jams and potential train delays\n",
        "- We consider that a tourists are travelling either by train or by car, not with both means."
      ]
    },
    {
      "cell_type": "markdown",
      "metadata": {
        "id": "rn-joUoWnCBY"
      },
      "source": [
        "#### **1.2.3** Conclusion \n",
        "\n",
        "The train journey is more than twice as long as the car journey. A traveller who wants to minimise his total travel time would therefore be well advised to choose the car as a mean of transport, as this would save him 16 hours and 20 minutes. "
      ]
    },
    {
      "cell_type": "markdown",
      "metadata": {
        "id": "0jRxh5n2xFr4"
      },
      "source": [
        "Travelling by car would thus cost around 580 CHF considering all our assumptions and hypothesis. The following analysis concern train and will allow us to a make a final comparison afterwise."
      ]
    },
    {
      "cell_type": "markdown",
      "metadata": {
        "id": "fARY0WPOmf-i"
      },
      "source": [
        "### **1.3 Optimize cost by train.**\n",
        "\n",
        "This will allow us to compare the cost of making the travel by car and by train. \n",
        "\n",
        "By train, a traveler would have 2 options : \n",
        "- Paying full price each fare\n",
        "- Paying half price by buying a half-fare reduction card for 185 CHF.\n",
        "\n",
        "We will compare these two alternatives to see if which is cheaper and if it is better than using a car. "
      ]
    },
    {
      "cell_type": "markdown",
      "metadata": {
        "id": "qID8WTcv7ZnR"
      },
      "source": [
        "**Assumption**:\n",
        "- We consider the price of half-fare train tickets"
      ]
    },
    {
      "cell_type": "code",
      "execution_count": 7,
      "metadata": {
        "colab": {
          "base_uri": "https://localhost:8080/"
        },
        "id": "YTcIF-LLWF_5",
        "outputId": "7943fb14-c0ee-4b06-cb13-f48211d3b79c"
      },
      "outputs": [
        {
          "name": "stdout",
          "output_type": "stream",
          "text": [
            "Looking in indexes: https://pypi.org/simple, https://us-python.pkg.dev/colab-wheels/public/simple/\n",
            "Requirement already satisfied: ortools in /usr/local/lib/python3.10/dist-packages (9.6.2534)\n",
            "Requirement already satisfied: absl-py>=0.13 in /usr/local/lib/python3.10/dist-packages (from ortools) (1.4.0)\n",
            "Requirement already satisfied: numpy>=1.13.3 in /usr/local/lib/python3.10/dist-packages (from ortools) (1.22.4)\n",
            "Requirement already satisfied: protobuf>=4.21.12 in /usr/local/lib/python3.10/dist-packages (from ortools) (4.23.0)\n",
            "Requirement already satisfied: scipy>=1.10.0 in /usr/local/lib/python3.10/dist-packages (from ortools) (1.10.1)\n",
            "Route for vehicle 0:\n",
            " 9 -> 5 -> 7 -> 2 -> 0 -> 1 -> 4 -> 6 -> 8 -> 3 -> 9\n",
            "Route cost: 279.5CHF\n",
            "\n"
          ]
        }
      ],
      "source": [
        "#Package installation and importation\n",
        "!pip install ortools\n",
        "from ortools.constraint_solver import routing_enums_pb2\n",
        "from ortools.constraint_solver import pywrapcp\n",
        "\n",
        "def create_data_model():\n",
        "    data = {}\n",
        "    data['train_cost_matrix'] = [\n",
        "      [0, 3700, 4150, 8450, 4050, 5350, 4500, 5850, 6850, 6250], # Observation platform of Gornergrat (Zermatt)\n",
        "      [3700, 0, 3700, 6200, 650, 5600, 2100, 3600, 4400, 4000], # Chillon's castle (Montreux)\n",
        "      [4150, 3700, 0, 5800, 2800, 4200, 1400, 1650, 4000, 2550], # Jungfraujoch (Interlaken Ost)\n",
        "      [8450, 6200, 5800, 0, 6000, 5600, 5000, 3700, 3600, 3150], # Schweizerischer National Park (Zernez puis Bus à 2CHF)\n",
        "      [4050, 650, 2800, 6000, 0, 5400, 1700, 3250, 4200, 3700], # Lemanic Lake in Lausanne\n",
        "      [5350, 5600, 4200, 5600, 5400, 0, 4400, 3050, 3800, 3250], # Lugano's town\n",
        "      [4500, 2100, 1400, 5000, 1700, 4400, 0, 1950, 3050, 2550], # Berne's town\n",
        "      [5850, 3600, 1650, 3700, 3250, 3050, 1950, 0, 3700, 2500], # Lucerne's town\n",
        "      [6850, 4400, 4000, 3600, 4200, 3800, 3050, 3700, 0, 2320], # Rhin's waterfalls (Neuhasen Rheinfall)\n",
        "      [6250, 4000, 2550, 3150, 3700, 3250, 2550, 2500, 2320, 0] # Zurich's town\n",
        "  ]\n",
        "\n",
        "    data['num_vehicles'] = 1\n",
        "    data['depot'] = 9\n",
        "    return data\n",
        "\n",
        "def print_solution(manager, routing, solution):\n",
        "    index = routing.Start(0)\n",
        "    plan_output = 'Route for vehicle 0:\\n'\n",
        "    route_cost = 0\n",
        "    while not routing.IsEnd(index):\n",
        "        plan_output += ' {} ->'.format(manager.IndexToNode(index))\n",
        "        previous_index = index\n",
        "        index = solution.Value(routing.NextVar(index))\n",
        "        route_cost += routing.GetArcCostForVehicle(previous_index, index, 0)\n",
        "    route_cost = route_cost/100\n",
        "    plan_output += ' {}\\n'.format(manager.IndexToNode(index))\n",
        "    plan_output += 'Route cost: {}km\\n'.format(route_cost)\n",
        "    print(plan_output.replace('km', 'CHF'))\n",
        "    \n",
        "\n",
        "def main():\n",
        "    data = create_data_model()\n",
        "    manager = pywrapcp.RoutingIndexManager(len(data['train_cost_matrix']),\n",
        "                                           data['num_vehicles'], data['depot'])\n",
        "    routing = pywrapcp.RoutingModel(manager)\n",
        "\n",
        "    def distance_callback(from_index, to_index):\n",
        "        from_node = manager.IndexToNode(from_index)\n",
        "        to_node = manager.IndexToNode(to_index)\n",
        "        return data['train_cost_matrix'][from_node][to_node]\n",
        "\n",
        "    transit_callback_index = routing.RegisterTransitCallback(distance_callback)\n",
        "\n",
        "    routing.SetArcCostEvaluatorOfAllVehicles(transit_callback_index)\n",
        "\n",
        "    search_parameters = pywrapcp.DefaultRoutingSearchParameters()\n",
        "\n",
        "    search_parameters.first_solution_strategy = (\n",
        "        routing_enums_pb2.FirstSolutionStrategy.PATH_CHEAPEST_ARC)\n",
        "    \n",
        "    solution = routing.SolveWithParameters(search_parameters)\n",
        "    \n",
        "    if solution:\n",
        "        print_solution(manager, routing, solution)        \n",
        "\n",
        "main()   "
      ]
    },
    {
      "cell_type": "markdown",
      "metadata": {
        "id": "DRmnWPl3wi0W"
      },
      "source": [
        "Travelling by train will thus cost 279.5 CHF with half-fare train tickets. To access such prices, a 185 CHF card needs to be buyed. Therefore, it would cost 459.5 CHF in total. \n",
        "It stays cheaper than travelling with full-fare tickets which would have cost 559 CHF."
      ]
    },
    {
      "cell_type": "markdown",
      "metadata": {
        "id": "HcqNL69EwWFO"
      },
      "source": [
        "**Conclusion**"
      ]
    },
    {
      "cell_type": "markdown",
      "metadata": {
        "id": "UtPVaEYSweCV"
      },
      "source": [
        "We can see that, by travelling by train is in any case cheaper than travelling by car.\n",
        "However, we find it surprising that no special options for tourists are offered by the Swiss railway. \n",
        "Indeed, the cheapest option is to buy an annual half-fare card to reduce the price of tickets. \n",
        "One of our managerial suggestions will probably be on this subject and will be addressed directly to SBB."
      ]
    },
    {
      "cell_type": "markdown",
      "metadata": {
        "id": "WXnLk6fbfrqg"
      },
      "source": [
        "## **2. Different Knapsack models to optimize**\n",
        "\n",
        "What to do in the case the travelers aren't interested in all the destinations or have no time/money to cover all the top 10.\n",
        "\n",
        "- Model with maximum time input from user\n",
        "- Model with maximum cost input from user\n",
        "\n",
        "**Assumption**: users are travelling by car for time analysis and by train for costs analysis. This choice has been made to show our adaptation capability in the code which are intially on a similar structure basis. But also because car is a faster mean to travel in Switzerland so it suits the time analysis. Moreover, we encourage tourists to use the train during their travel, it's the best way to preserve the Swiss environment but also to discover the country. Swiss trains are renowned worldwide for their quality (comfort, cleanliness, ...) but also for the landscapes and views offered on board.\n"
      ]
    },
    {
      "cell_type": "markdown",
      "metadata": {
        "id": "Jqtd7cwvqxaf"
      },
      "source": [
        "### **2.1 Best itinerary with given time from the traveller**\n",
        "This analysis allows us to define the optimal itinerary according to the tourist's criteria: the importance he attaches to the TripAdvisor ratings of the places visited, the number of days he has available, the daily time he wants to devote to his visits and his starting point among the 10 attractions.\n",
        "\n",
        "\n",
        "\n"
      ]
    },
    {
      "cell_type": "code",
      "execution_count": 24,
      "metadata": {
        "colab": {
          "base_uri": "https://localhost:8080/"
        },
        "id": "27xNHLFt4o8u",
        "outputId": "6dbaf98d-b6e3-4ccd-8e41-b8e8a282a2c0"
      },
      "outputs": [
        {
          "name": "stdout",
          "output_type": "stream",
          "text": [
            "The optimal itinerary according to your demand is: [\"Zurich's town\", \"Chillon's castle\", 'Lemanic Lake in Lausanne', \"Lucerne's town\", \"Zurich's town\"]\n",
            "With your actual constraints, you are visiting : 4  places of the top 10 destinations in Switzerland.\n",
            "This itinerary is based on an attraction weight coefficient of: 10\n",
            "Total time spent on travelling: 11.5  hours.\n",
            "Total trip duration: 1 days.\n",
            "Remaining time on the last day: 5 hours, 30 minutes.\n"
          ]
        }
      ],
      "source": [
        "#Importation of the required package for this analysis\n",
        "import itertools\n",
        "\n",
        "#Dictionary of concerned destination and their indexes\n",
        "destination_names = {\n",
        "    0: \"Observation platform of Gornergrat\",\n",
        "    1: \"Chillon's castle\",\n",
        "    2: \"Jungfraujoch\",\n",
        "    3: \"Schweizerischer National Park\",\n",
        "    4: \"Lemanic Lake in Lausanne\",\n",
        "    5: \"Lugano's town\",\n",
        "    6: \"Berne's town\",\n",
        "    7: \"Lucerne's town\",\n",
        "    8: \"Rhin's waterfalls\",\n",
        "    9: \"Zurich's town\"}\n",
        "\n",
        "#Matrix including travel times between our 10 destinations\n",
        "traveltimes = [[0, 120, 270, 240, 60, 210, 60, 90, 330, 150], #Observation platform of Gornergrat\n",
        "        [120, 0, 270, 240, 60, 330, 60, 120, 360, 120], #Chillon's castle\n",
        "        [270, 270, 0, 180, 210, 450, 90, 120, 330, 150], #Jungfraujoch\n",
        "        [240, 240, 180, 0, 270, 420, 60, 90, 270, 90], #Schweizerischer National Park\n",
        "        [60, 60, 210, 270, 0, 360, 30, 60, 210, 30], #Lemanic Lake in Lausanne\n",
        "        [210, 330, 450, 7, 360, 0, 330, 390, 10, 210], #Lugano's town\n",
        "        [60, 60, 90, 60, 30, 330, 0, 30, 150, 30], #Berne's town\n",
        "        [90, 120, 120, 90, 60, 390, 30, 0, 210, 30], #Lucerne's town\n",
        "        [330, 360, 330, 270, 210, 10, 150, 210, 0, 90], #Rhin's waterfalls\n",
        "        [150, 120, 150, 90, 30, 210, 30, 30, 90, 0]] #Zurich's town\n",
        "\n",
        "#Visiting times for each of our destinations\n",
        "visit_times = [2, 2, 4, 4, 1, 2, 2, 2, 2, 2]\n",
        "#Attraction note for each of our destinations, based on TripAdvisor average note for each of them\n",
        "attractions = [18, 19, 18, 16, 17, 18, 16, 17, 15, 16]\n",
        "#Attraction weight in order to define the importance you give to those notations. Set 1 if you don't care about destinations's notes and a 10 if it is your main priority\n",
        "attraction_weight = 10\n",
        "#Available traveling days for the tourist \n",
        "available_days = 2\n",
        "#Input here the amount of time you want to spend visiting each day of your travel\n",
        "daily_visiting_time = 6 * 60 \n",
        "#Here you can add your starting point between all the 10 destinations\n",
        "starting_point = 9\n",
        "\n",
        "#Calculate the total time for a given itinerary\n",
        "def calculate_total_time(itinerary, traveltimes, visit_times):\n",
        "    total_time = 0\n",
        "    for i in range(len(itinerary) - 1):\n",
        "        travel_time = traveltimes[itinerary[i]][itinerary[i + 1]]\n",
        "        visit_time = visit_times[itinerary[i]] * 60  #Convert visit time to minutes\n",
        "        total_time += travel_time + visit_time\n",
        "    return total_time\n",
        "\n",
        "#Calculate the total attraction score for a given itinerary\n",
        "def calculate_total_attraction(itinerary, attractions, attraction_weight):\n",
        "    return sum(attractions[i] for i in itinerary[:-1]) * attraction_weight \n",
        "\n",
        "#Find the best itinerary based on all our constraints\n",
        "def best_itinerary(traveltimes, attractions, starting_point, available_days, daily_visiting_time, visit_times):\n",
        "    num_destinations = len(attractions)\n",
        "    other_destinations = list(range(num_destinations))\n",
        "    other_destinations.remove(starting_point)\n",
        "    best_score = float('-inf')\n",
        "    best_itinerary = None\n",
        "    max_time = available_days * daily_visiting_time  \n",
        "    #Generate all subsets of destinations to visit\n",
        "    for subset_size in range(1, num_destinations):\n",
        "        for subset in itertools.combinations(other_destinations, subset_size):\n",
        "            #Generate all possible itineraries for this subset of destinations\n",
        "            for itinerary in itertools.permutations(subset):\n",
        "                complete_itinerary = [starting_point] + list(itinerary) + [starting_point]\n",
        "                total_time = calculate_total_time(complete_itinerary, traveltimes, visit_times)\n",
        "                if total_time <= max_time:\n",
        "                    days_needed = total_time // daily_visiting_time\n",
        "                    if days_needed <= available_days:\n",
        "                        score = calculate_total_attraction(complete_itinerary, attractions, attraction_weight)\n",
        "                        if score > best_score:\n",
        "                            best_score = score\n",
        "                            best_itinerary = complete_itinerary\n",
        "    return best_itinerary, best_score\n",
        "\n",
        "itinerary, score = best_itinerary(\n",
        "    traveltimes,\n",
        "    attractions,\n",
        "    starting_point,\n",
        "    available_days,\n",
        "    daily_visiting_time,\n",
        "    visit_times)\n",
        "\n",
        "#Convert the itinerary to destination names thanks to their indexes\n",
        "itinerary_names = [destination_names[i] for i in itinerary]\n",
        "print(\"The optimal itinerary according to your demand is:\", itinerary_names)\n",
        "print(\"With your actual constraints, you are visiting :\",len(itinerary_names)-1,\" places of the top 10 destinations in Switzerland.\")\n",
        "print(\"This itinerary is based on an attraction weight coefficient of:\", attraction_weight)\n",
        "\n",
        "#Calculate the total time spent on the optimal itinerary\n",
        "total_time = calculate_total_time(itinerary, traveltimes, visit_times)\n",
        "print(\"Total time spent on travelling:\", total_time / 60,\" hours.\")  # Convert minutes to hours\n",
        "final_days = total_time // daily_visiting_time\n",
        "remaining_minutes = total_time % daily_visiting_time\n",
        "remaining_hours = remaining_minutes // 60\n",
        "remaining_minutes = remaining_minutes % 60\n",
        "print(\"Total trip duration:\", final_days, \"days.\")\n",
        "if remaining_hours > 0 or remaining_minutes > 0:\n",
        "    print(f\"Remaining time on the last day: {remaining_hours} hours, {remaining_minutes} minutes.\")\n",
        "else:\n",
        "    print(\"No remaining time on the last day.\")"
      ]
    },
    {
      "cell_type": "markdown",
      "metadata": {
        "id": "5ZUH8qRTL13G"
      },
      "source": [
        "**This analysis allows us to inform the user about these different points**:\n",
        "- The optimal route to travel according to user's constraints\n",
        "- The number of destinations he can visit among the top 10 destinations in Switzerland with his constraints\n",
        "- The time spent travelling during the trip\n",
        "- The total duration of the trip\n",
        "- The remaining free time at the end of the trip"
      ]
    },
    {
      "cell_type": "markdown",
      "metadata": {
        "id": "TckXBnd8NOXq"
      },
      "source": [
        "**Assumptions and hypothesis for this analysis**:\n",
        "-\tThe travel times between destinations are symmetric and fixed.\n",
        "-\tThe visit times for each destination are given in hours and converted to minutes.\n",
        "-\tAttractions are represented by scores, indicating their level of attractiveness.\n",
        "-\tThe attraction weight coefficient determines the importance of attraction scores in the itinerary's calculation.\n",
        "-\tDaily visiting time is specified in minutes.\n",
        "-\tThe starting point is one of the destinations, typically Zurich (main Swiss airport).\n",
        "-\tThe input data, including travel times, attractions, visit times, attraction weight, available days, daily visiting time, and starting point, are valid and consistent.\n",
        "-\tThe objective of the code is to maximize the total attraction score while meeting the given constraints.\n",
        "-\tVisit times for each destination remain constant and are not affected by external factors.\n",
        "-\tAttractions have fixed scores based on TripAdvisor average ratings.\n",
        "-\tThe user-defined attraction weight accurately reflects the significance of attraction scores.\n",
        "-\tThe daily visiting time remains constant throughout the trip.\n",
        "-\tThere are no constraints on the visitation order of destinations, except those defined by the user.\n",
        "-\tItineraries start and end at the same destination, which is determined by the user as the starting point, typically Zurich (main Swiss airport)."
      ]
    },
    {
      "cell_type": "markdown",
      "metadata": {
        "id": "trq3HjlPRs66"
      },
      "source": [
        "###**2.2 Best itinerary with given budget from the traveller**\n",
        "\n",
        "This analysis allows us to define the optimal itinerary according to the tourist's criteria: the importance he attaches to the TripAdvisor ratings of the places visited, his budget and his starting point among the 10 attractions."
      ]
    },
    {
      "cell_type": "code",
      "execution_count": 51,
      "metadata": {
        "colab": {
          "base_uri": "https://localhost:8080/"
        },
        "id": "D7_QQImNS2u2",
        "outputId": "8ab56bb5-602f-490a-e884-4ad5de3ab73f"
      },
      "outputs": [
        {
          "name": "stdout",
          "output_type": "stream",
          "text": [
            "The optimal itinerary according to your budget is:\n",
            " [\"Zurich's town\", 'Jungfraujoch', 'Observation platform of Gornergrat', \"Chillon's castle\", 'Lemanic Lake in Lausanne', \"Berne's town\", \"Lucerne's town\", \"Lugano's town\", \"Zurich's town\"] \n",
            " and is based on an attraction weight coeff. of: 10 on a scale of 10.\n",
            "With your 400.0 CHF personal budget, you can thus visit 8 different destinations.\n",
            "Total cost of the trip is : 213.38 CHF + the price of the half-fare card, it finally gives : 398.38 CHF.\n",
            "Remaining personal budget after the trip: 1.62 CHF.\n"
          ]
        }
      ],
      "source": [
        "#Importation of the required package for this analysis\n",
        "import itertools\n",
        "\n",
        "#Dictionary of concerned destination and their indexes\n",
        "destination_names = {\n",
        "    0: \"Observation platform of Gornergrat\",\n",
        "    1: \"Chillon's castle\",\n",
        "    2: \"Jungfraujoch\",\n",
        "    3: \"Schweizerischer National Park\",\n",
        "    4: \"Lemanic Lake in Lausanne\",\n",
        "    5: \"Lugano's town\",\n",
        "    6: \"Berne's town\",\n",
        "    7: \"Lucerne's town\",\n",
        "    8: \"Rhin's waterfalls\",\n",
        "    9: \"Zurich's town\"}\n",
        "\n",
        "#Matrix including travel costs by train between our 10 destinations\n",
        "costs = [\n",
        "      [0, 3700, 4150, 8450, 4050, 5350, 4500, 5850, 6850, 6250], # Observation platform of Gornergrat (Zermatt)\n",
        "      [3700, 0, 3700, 6200, 650, 5600, 2100, 3600, 4400, 4000], # Chillon's castle (Montreux)\n",
        "      [4150, 3700, 0, 5800, 2800, 4200, 1400, 1650, 4000, 2550], # Jungfraujoch (Interlaken Ost)\n",
        "      [8450, 6200, 5800, 0, 6000, 5600, 5000, 3700, 3600, 3150], # Schweizerischer National Park (Zernez puis Bus à 2CHF)\n",
        "      [4050, 650, 2800, 6000, 0, 5400, 1700, 3250, 4200, 3700], # Lemanic Lake in Lausanne\n",
        "      [5350, 5600, 4200, 5600, 5400, 0, 4400, 3050, 3800, 3250], # Lugano's town\n",
        "      [4500, 2100, 1400, 5000, 1700, 4400, 0, 1950, 3050, 2550], # Berne's town\n",
        "      [5850, 3600, 1650, 3700, 3250, 3050, 1950, 0, 3700, 2500], # Lucerne's town\n",
        "      [6850, 4400, 4000, 3600, 4200, 3800, 3050, 3700, 0, 2320], # Rhin's waterfalls (Neuhasen Rheinfall)\n",
        "      [6250, 4000, 2550, 3150, 3700, 3250, 2550, 2500, 2320, 0]] #Zurich's town\n",
        "\n",
        "#Visiting costs for each of our destinations\n",
        "visit_costs = [55, 13, 50, 9, 50, 40, 40, 40, 55, 50]\n",
        "#Attraction note for each of our destinations, based on TripAdvisor average note for each of them\n",
        "attractions = [18, 19, 18, 16, 17, 18, 16, 17, 15, 16]\n",
        "#Attraction weight in order to define the importance you give to those notations. Set 1 if you don't care about destinations's notes and a 10 if it is your main priority\n",
        "attraction_weight = 10\n",
        "#Input your budget in CHF\n",
        "available_budget = 400\n",
        "#Here you can add your starting point between all the 10 destinations\n",
        "starting_point = 9\n",
        "#Take the half-fare train card\n",
        "fare = True\n",
        "\n",
        "if fare == True:\n",
        "  available_budget = (available_budget-185)*100\n",
        "else : \n",
        "  available_budget = available_budget*50  \n",
        "\n",
        "#Calculate the total cost for a given itinerary\n",
        "def calculate_total_cost(itinerary, costs, visit_costs):\n",
        "    total_cost = sum(visit_costs[i] for i in itinerary[:-1])\n",
        "    for i in range(len(itinerary) - 1):\n",
        "        total_cost += costs[itinerary[i]][itinerary[i+1]]\n",
        "    return total_cost\n",
        "\n",
        "#Calculate the total attraction score for a given itinerary\n",
        "def calculate_total_attraction(itinerary, attractions, attraction_weight):\n",
        "    return sum(attractions[i] for i in itinerary[:-1]) * attraction_weight \n",
        "\n",
        "#Find the best itinerary based on all our constraints\n",
        "def best_itinerary(costs, visit_costs, starting_point, available_budget, attractions, attraction_weight):\n",
        "    num_destinations = len(costs)\n",
        "    other_destinations = list(range(num_destinations))\n",
        "    other_destinations.remove(starting_point)\n",
        "    best_score = float('-inf')\n",
        "    best_itinerary = None\n",
        "    #Generate all subsets of destinations to visit\n",
        "    for subset_size in range(1, num_destinations):\n",
        "        for subset in itertools.combinations(other_destinations, subset_size):\n",
        "            #Generate all possible itineraries for this subset of destinations\n",
        "            for itinerary in itertools.permutations(subset):\n",
        "                complete_itinerary = [starting_point] + list(itinerary) + [starting_point]\n",
        "                total_cost = sum(costs[complete_itinerary[i]][complete_itinerary[i+1]] for i in range(len(complete_itinerary)-1))\n",
        "                total_visit_cost = sum(visit_costs[i] for i in complete_itinerary[:-1])\n",
        "                if total_cost + total_visit_cost <= available_budget:\n",
        "                    score = calculate_total_attraction(complete_itinerary, attractions, attraction_weight)\n",
        "                    if score > best_score:\n",
        "                        best_score = score\n",
        "                        best_itinerary = complete_itinerary\n",
        "    return best_itinerary, best_score\n",
        "\n",
        "itinerary, best_score = best_itinerary(\n",
        "    costs,\n",
        "    visit_costs,\n",
        "    starting_point,\n",
        "    available_budget,\n",
        "    attractions,\n",
        "    attraction_weight)\n",
        "\n",
        "\n",
        "#Convert the itinerary to destination names thanks to their indexes\n",
        "itinerary_names = [destination_names[i] for i in itinerary]\n",
        "print(\"The optimal itinerary according to your budget is:\\n\",itinerary_names,\"\\n and is based on an attraction weight coeff. of:\",attraction_weight,\"on a scale of 10.\")\n",
        "#Calculate the total time spent on the optimal itinerary\n",
        "total_cost = calculate_total_cost(itinerary, costs, visit_costs)\n",
        "tot_cost = total_cost/100\n",
        "av_budg = available_budget/100\n",
        "if fare == True:\n",
        "  print(\"With your\",av_budg+185,\"CHF personal budget, you can thus visit\",len(itinerary_names)-1,\"different destinations.\")\n",
        "  print(\"Total cost of the trip is :\", tot_cost,\"CHF + the price of the half-fare card, it finally gives :\", tot_cost+185,\"CHF.\")\n",
        "  print(\"Remaining personal budget after the trip:\",(available_budget-total_cost)/100,\"CHF.\")\n",
        "  if av_budg < 185 :\n",
        "    print(\"Since the cost of your trip is:\",tot_cost,\"CHF which is < 185 CHF, we suggest you not to buy the half-fare card, you will then probably be able to make a bigger travel.\")\n",
        "else :\n",
        "  print(\"With your\",(available_budget/100)*2,\"CHF personal budget, you can thus visit\",len(itinerary_names)-1,\"different destinations.\")\n",
        "  print(\"Total cost of the trip is :\", tot_cost*2,\"CHF.\")\n",
        "  print(\"Remaining personal budget after the trip:\",(available_budget-total_cost)/50,\"CHF.\")\n",
        "  if av_budg > 184 :\n",
        "    print(\"Since half the cost of your trip is:\",tot_cost,\"CHF which is >= 185 CHF, we suggest you to buy the half-fare card, you will then probably be able to make a bigger travel.\")\n"
      ]
    },
    {
      "cell_type": "markdown",
      "metadata": {
        "id": "ihjZWcceV80J"
      },
      "source": [
        "**This analysis allows us to inform the user about these different points**:\n",
        "- The optimal route to travel according to user's constraints\n",
        "- The number of destinations he can visit among the top 10 destinations in Switzerland with his budget\n",
        "- The total cost of the trip\n",
        "- The remaining budget at the end of the trip\n",
        "- If he is making the right choice by taking the half-fare card or not"
      ]
    },
    {
      "cell_type": "markdown",
      "metadata": {
        "id": "ar45OMjbibHm"
      },
      "source": [
        "**Assumptions**:\n",
        "- Costs are given *100 in the costs matrix, otherwise the code isn't running\n",
        "-\tThe travel costs between destinations are symmetric and fixed.\n",
        "-\tThe visit costs for each destination are constant and independent of factors such as season or time.\n",
        "-\tAttractions have fixed scores based on TripAdvisor average ratings.\n",
        "-\tThe user-defined attraction weight coefficient accurately represents the importance of attraction scores in itinerary planning.\n",
        "-\tThe available budget is given in CHF (Swiss Francs).\n",
        "-\tAll destinations can be visited in any order, and there are no dependencies or constraints on the visitation order, except those defined by the user.\n",
        "-\tItineraries start and end at the same destination, typically Zurich (main Swiss airport).\n",
        "-\tThe code aims to find the best itinerary that maximizes the total attraction score while respecting the budget constraint.\n",
        "-\tThe remaining budget after the trip is calculated as the available budget minus the total cost of the trip.\n",
        "-\tThe travel costs and visit costs are fixed and known beforehand, without any variations based on external factors.\n",
        "-\tThe attraction score is based on TripAdvisor's ratings for each location.\n",
        "-\tThe itinerary always starts and ends at the same location, which is determined by the user as the starting point.\n",
        "-\tThe itinerary can include any combination of destinations without constraints on the order or subset of destinations.\n",
        "-\tThe best itinerary is determined by the highest attraction score within the given budget constraint."
      ]
    }
  ],
  "metadata": {
    "colab": {
      "provenance": [],
      "toc_visible": true
    },
    "kernelspec": {
      "display_name": "Python 3",
      "name": "python3"
    },
    "language_info": {
      "name": "python"
    }
  },
  "nbformat": 4,
  "nbformat_minor": 0
}
